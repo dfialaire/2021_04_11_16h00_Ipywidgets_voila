{
 "cells": [
  {
   "cell_type": "code",
   "execution_count": 1,
   "id": "17153570",
   "metadata": {},
   "outputs": [
    {
     "data": {
      "application/vnd.jupyter.widget-view+json": {
       "model_id": "",
       "version_major": 2,
       "version_minor": 0
      },
      "text/plain": [
       "VBox(children=(HBox(children=(CameraStream(constraints={'facing_mode': 'user', 'audio': False, 'video': {'widt…"
      ]
     },
     "metadata": {},
     "output_type": "display_data"
    },
    {
     "data": {
      "application/vnd.jupyter.widget-view+json": {
       "model_id": "",
       "version_major": 2,
       "version_minor": 0
      },
      "text/plain": [
       "CameraStream(constraints={'facing_mode': 'user', 'audio': False, 'video': {'width': 420, 'height': 320}})"
      ]
     },
     "metadata": {},
     "output_type": "display_data"
    },
    {
     "name": "stdout",
     "output_type": "stream",
     "text": [
      "lets Go ! \n"
     ]
    },
    {
     "data": {
      "application/vnd.jupyter.widget-view+json": {
       "model_id": "",
       "version_major": 2,
       "version_minor": 0
      },
      "text/plain": [
       "HBox(children=(VBox(children=(Image(value=b'\\x89PNG\\r\\n\\x1a\\n\\x00\\x00\\x00\\rIHDR\\x00\\x00\\x01\\xa8\\x00\\x00\\x00\\xf…"
      ]
     },
     "metadata": {},
     "output_type": "display_data"
    },
    {
     "name": "stdout",
     "output_type": "stream",
     "text": [
      "<class 'bytes'>\n",
      "<class 'ipywidgets.widgets.widget_media.Image'>\n",
      "<class 'ipywidgets.widgets.widget_box.HBox'>\n"
     ]
    }
   ],
   "source": [
    "import io\n",
    "import PIL.Image\n",
    "import numpy as np\n",
    "from ipywidgets import Image, VBox, HBox, Widget, Button\n",
    "import ipywidgets as widgets\n",
    "from IPython.display import display\n",
    "from ipywebrtc import CameraStream, ImageRecorder\n",
    "from matplotlib import pyplot as plt\n",
    "##########\n",
    "def compress_to_bytes(data, fmt):\n",
    "    \"\"\"\n",
    "    Helper function to compress image data via PIL/Pillow.\n",
    "    \"\"\"\n",
    "    buff = io.BytesIO()\n",
    "    img = PIL.Image.fromarray(data)    \n",
    "    img.save(buff, format=fmt)\n",
    "    return buff.getvalue()\n",
    "##########\n",
    "\n",
    "VIDEO_WIDTH = 420 # 窗口宽度，按需调整\n",
    "VIDEO_HEIGHT = 320 # 窗口高度，按需调整\n",
    "\n",
    "camera = CameraStream(constraints=\n",
    "                      {'facing_mode': 'user',\t\n",
    "                       'audio': False,\t\n",
    "                       'video': { 'width': VIDEO_WIDTH, 'height': VIDEO_HEIGHT}\t\n",
    "                       })\t# 另一种CameraStream创建方式，参考下文组件介绍部分\n",
    "image_recorder = ImageRecorder(stream=camera)\n",
    "out = Image(width=VIDEO_WIDTH, height=VIDEO_HEIGHT)\n",
    "\n",
    "FLAG_STOP = False\t# 终止标记\n",
    "\n",
    "def cap_image(_):\t# 处理ImageRecord抓取到的图片的过程\n",
    "    if FLAG_STOP:\n",
    "        return\t# 停止处理\n",
    "    im_in = PIL.Image.open(io.BytesIO(image_recorder.image.value))\n",
    "    im_array = np.array(im_in)[..., :3]\n",
    "    canvas = process(im_array)\t# process是处理图像数组的函数，这里没写出来，各位按处理需要自己写即可\n",
    "    ####\n",
    "    canvas = cv2.cvtColor(canvas, cv2.COLOR_BGR2GRAY)\n",
    "    canvas = cv2.GaussianBlur(canvas, (5, 5), 0)\n",
    "    ####\n",
    "    im_out = PIL.Image.fromarray(canvas)\n",
    "    f = io.BytesIO()\n",
    "    im_out.save(f, format='png')\n",
    "    out.value = f.getvalue()\n",
    "    image_recorder.recording = True\t# 重新设置属性，使ImageRecorder继续抓取\n",
    "\n",
    "# 注册抓取事件，参考我另一篇Blog：https://qxsoftware.blog.csdn.net/article/details/86708381\n",
    "\n",
    "#image_recorder.image.observe(cap_image, names=['value'])\n",
    "\n",
    "# 用于停止抓取的按钮\n",
    "btn_stop = Button(description=\"Capture ok ?\",\n",
    "                  tooltip='click this to stop webcam',\n",
    "                  button_style='danger')\n",
    "# btn_stop的处理函数\n",
    "def close_cam(_):\n",
    "\n",
    "#     FLAG_STOP= True\n",
    "#     Widget.close_all()\n",
    "    im = PIL.Image.open(io.BytesIO(image_recorder.image.value))\n",
    "    im_array = np.array(im)\n",
    "    #################################\n",
    "    fmt = 'png'\n",
    "    data_comp = compress_to_bytes(im_array, fmt)\n",
    "    print(type(data_comp))\n",
    "    image_headline = widgets.Image(\n",
    "                        value=data_comp,\n",
    "                        format='jpg',\n",
    "                        width='200'\n",
    "                    )\n",
    "    print(type(image_headline))\n",
    "    label_headline = widgets.Label(\n",
    "                        value='Photo by CDC on Unsplash',\n",
    "                        style={'description_width': 'initial'}\n",
    "                    )\n",
    "\n",
    "    vbox_headline = widgets.VBox([image_headline, label_headline])\n",
    "    hbox_headline = widgets.HBox([vbox_headline, vbox_headline])\n",
    "    print(type(hbox_headline))\n",
    "    # image_headline\n",
    "    # print(type(vbox_headline))\n",
    "    display(hbox_headline)\n",
    "    #######################################################################\"\"\n",
    "\n",
    "\n",
    "btn_stop.on_click(close_cam) # 注册单击事件\n",
    "# Run this section and Press the Camera button to display demo\n",
    "display(VBox([HBox([camera, image_recorder  ]), btn_stop]))   #  btn_stop]), out]))\n",
    "display(camera)\n",
    "\n",
    "########\n",
    "print(\"lets Go ! \")\n",
    "#############\n"
   ]
  },
  {
   "cell_type": "code",
   "execution_count": 2,
   "id": "38c7ea4e",
   "metadata": {},
   "outputs": [],
   "source": [
    "Widget.close_all()"
   ]
  },
  {
   "cell_type": "code",
   "execution_count": null,
   "id": "61821ee3",
   "metadata": {},
   "outputs": [],
   "source": []
  }
 ],
 "metadata": {
  "kernelspec": {
   "display_name": "Python 3",
   "language": "python",
   "name": "python3"
  },
  "language_info": {
   "codemirror_mode": {
    "name": "ipython",
    "version": 3
   },
   "file_extension": ".py",
   "mimetype": "text/x-python",
   "name": "python",
   "nbconvert_exporter": "python",
   "pygments_lexer": "ipython3",
   "version": "3.7.10"
  }
 },
 "nbformat": 4,
 "nbformat_minor": 5
}
